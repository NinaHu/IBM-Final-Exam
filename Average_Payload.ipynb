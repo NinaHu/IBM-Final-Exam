{
  "nbformat": 4,
  "nbformat_minor": 0,
  "metadata": {
    "colab": {
      "provenance": []
    },
    "kernelspec": {
      "name": "python3",
      "display_name": "Python 3"
    },
    "language_info": {
      "name": "python"
    }
  },
  "cells": [
    {
      "cell_type": "code",
      "execution_count": 1,
      "metadata": {
        "colab": {
          "base_uri": "https://localhost:8080/"
        },
        "id": "YTS8WTBJujgs",
        "outputId": "c0775ce2-f775-48b7-8525-48089ea9a549"
      },
      "outputs": [
        {
          "output_type": "stream",
          "name": "stdout",
          "text": [
            "The average payload mass is 2534.0 kg\n"
          ]
        }
      ],
      "source": [
        "payload_masses = [2534, 2534, 2534, 2534, 2534]\n",
        "average_payload_mass = sum(payload_masses) / len(payload_masses)\n",
        "print(f\"The average payload mass is {average_payload_mass} kg\")\n"
      ]
    }
  ]
}