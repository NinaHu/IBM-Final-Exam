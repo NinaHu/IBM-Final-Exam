{
  "nbformat": 4,
  "nbformat_minor": 0,
  "metadata": {
    "colab": {
      "provenance": []
    },
    "kernelspec": {
      "name": "python3",
      "display_name": "Python 3"
    },
    "language_info": {
      "name": "python"
    }
  },
  "cells": [
    {
      "cell_type": "code",
      "source": [
        "!pip install dash"
      ],
      "metadata": {
        "colab": {
          "base_uri": "https://localhost:8080/"
        },
        "id": "gY8GDJqZklFw",
        "outputId": "c02858fb-044b-41e4-dcc0-468e4a97f84b"
      },
      "execution_count": 36,
      "outputs": [
        {
          "output_type": "stream",
          "name": "stdout",
          "text": [
            "Requirement already satisfied: dash in /usr/local/lib/python3.10/dist-packages (2.14.2)\n",
            "Requirement already satisfied: Flask<3.1,>=1.0.4 in /usr/local/lib/python3.10/dist-packages (from dash) (2.2.5)\n",
            "Requirement already satisfied: Werkzeug<3.1 in /usr/local/lib/python3.10/dist-packages (from dash) (3.0.1)\n",
            "Requirement already satisfied: plotly>=5.0.0 in /usr/local/lib/python3.10/dist-packages (from dash) (5.15.0)\n",
            "Requirement already satisfied: dash-html-components==2.0.0 in /usr/local/lib/python3.10/dist-packages (from dash) (2.0.0)\n",
            "Requirement already satisfied: dash-core-components==2.0.0 in /usr/local/lib/python3.10/dist-packages (from dash) (2.0.0)\n",
            "Requirement already satisfied: dash-table==5.0.0 in /usr/local/lib/python3.10/dist-packages (from dash) (5.0.0)\n",
            "Requirement already satisfied: typing-extensions>=4.1.1 in /usr/local/lib/python3.10/dist-packages (from dash) (4.5.0)\n",
            "Requirement already satisfied: requests in /usr/local/lib/python3.10/dist-packages (from dash) (2.31.0)\n",
            "Requirement already satisfied: retrying in /usr/local/lib/python3.10/dist-packages (from dash) (1.3.4)\n",
            "Requirement already satisfied: ansi2html in /usr/local/lib/python3.10/dist-packages (from dash) (1.9.1)\n",
            "Requirement already satisfied: nest-asyncio in /usr/local/lib/python3.10/dist-packages (from dash) (1.5.8)\n",
            "Requirement already satisfied: setuptools in /usr/local/lib/python3.10/dist-packages (from dash) (67.7.2)\n",
            "Requirement already satisfied: importlib-metadata in /usr/local/lib/python3.10/dist-packages (from dash) (7.0.1)\n",
            "Requirement already satisfied: Jinja2>=3.0 in /usr/local/lib/python3.10/dist-packages (from Flask<3.1,>=1.0.4->dash) (3.1.3)\n",
            "Requirement already satisfied: itsdangerous>=2.0 in /usr/local/lib/python3.10/dist-packages (from Flask<3.1,>=1.0.4->dash) (2.1.2)\n",
            "Requirement already satisfied: click>=8.0 in /usr/local/lib/python3.10/dist-packages (from Flask<3.1,>=1.0.4->dash) (8.1.7)\n",
            "Requirement already satisfied: tenacity>=6.2.0 in /usr/local/lib/python3.10/dist-packages (from plotly>=5.0.0->dash) (8.2.3)\n",
            "Requirement already satisfied: packaging in /usr/local/lib/python3.10/dist-packages (from plotly>=5.0.0->dash) (23.2)\n",
            "Requirement already satisfied: MarkupSafe>=2.1.1 in /usr/local/lib/python3.10/dist-packages (from Werkzeug<3.1->dash) (2.1.3)\n",
            "Requirement already satisfied: zipp>=0.5 in /usr/local/lib/python3.10/dist-packages (from importlib-metadata->dash) (3.17.0)\n",
            "Requirement already satisfied: charset-normalizer<4,>=2 in /usr/local/lib/python3.10/dist-packages (from requests->dash) (3.3.2)\n",
            "Requirement already satisfied: idna<4,>=2.5 in /usr/local/lib/python3.10/dist-packages (from requests->dash) (3.6)\n",
            "Requirement already satisfied: urllib3<3,>=1.21.1 in /usr/local/lib/python3.10/dist-packages (from requests->dash) (2.0.7)\n",
            "Requirement already satisfied: certifi>=2017.4.17 in /usr/local/lib/python3.10/dist-packages (from requests->dash) (2023.11.17)\n",
            "Requirement already satisfied: six>=1.7.0 in /usr/local/lib/python3.10/dist-packages (from retrying->dash) (1.16.0)\n"
          ]
        }
      ]
    },
    {
      "cell_type": "code",
      "source": [
        "import dash\n",
        "from dash import dcc, html\n",
        "import plotly.express as px\n",
        "import pandas as pd"
      ],
      "metadata": {
        "id": "NKmTBIvgk5Fj"
      },
      "execution_count": 37,
      "outputs": []
    },
    {
      "cell_type": "code",
      "source": [
        "# Dash web application\n",
        "app = dash.Dash(\"Plotly_Dashboard_Test\")"
      ],
      "metadata": {
        "id": "Oh6r_N7alDNu"
      },
      "execution_count": 38,
      "outputs": []
    },
    {
      "cell_type": "code",
      "source": [
        "# layout\n",
        "app.layout = html.Div(children=[\n",
        "    html.H1(\"Data Dashboard\"),\n",
        "\n",
        "    # Scatter Plot\n",
        "     dcc.Graph(\n",
        "        id='scatter-plot',\n",
        "        figure=px.scatter(pd.DataFrame({'X-axis': [1, 2, 3], 'Y-axis': [4, 5, 6], 'Category': ['A', 'B', 'A']}),\n",
        "                          x='X-axis', y='Y-axis', color='Category', title='Scatter Plot')\n",
        "    ),\n",
        "\n",
        "\n",
        "    # Bar Chart\n",
        "    dcc.Graph(\n",
        "        id='bar-chart',\n",
        "        figure=px.bar(pd.DataFrame({'Category': ['A', 'B'], 'Value': [10, 20]}),\n",
        "                      x='Category', y='Value', color='Category', title='Bar Chart')\n",
        "    ),\n",
        "\n",
        "    # Dropdown for interactive selection\n",
        "    dcc.Dropdown(\n",
        "        id='category-dropdown',\n",
        "        options=[\n",
        "            {'label': 'Category A', 'value': 'A'},\n",
        "            {'label': 'Category B', 'value': 'B'},\n",
        "        ],\n",
        "        value='A',\n",
        "        multi=False,\n",
        "        clearable=False,\n",
        "        style={'width': '50%'}\n",
        "    ),\n",
        "\n",
        "\n",
        "    # Line Chart with drowdown selection\n",
        "dcc.Graph(\n",
        "    id='line-chart',\n",
        "    figure=px.line(pd.DataFrame({\n",
        "        'Date': ['2024-01-18', '2024-01-17', '2024-01-16', '2024-01-15', '2024-01-14' ],\n",
        "        'Value': [5, 8, 12, 6, 10],\n",
        "        'Category': ['A', 'A', 'B', 'A', 'B']\n",
        "    }), x='Date', y='Value', color='Category', title='Line Chart')\n",
        ")\n",
        "\n",
        "])"
      ],
      "metadata": {
        "id": "BYuJsV-4mfmA"
      },
      "execution_count": 39,
      "outputs": []
    },
    {
      "cell_type": "code",
      "source": [
        "# callback for updating line chart based on dropdown selection\n",
        "@app.callback(\n",
        "    dash.dependencies.Output('line-chart', 'figure'),\n",
        "    [dash.dependencies.Input('category-dropdown', 'value')]\n",
        ")\n",
        "def update_line_chart(selected_category):\n",
        "    filtered_df = pd.DataFrame({'Date': ['2024-01-18', '2024-01-17', '2024-01-16'],\n",
        "                                'Value': [5, 8, 12],\n",
        "                                'Category': ['A', 'A', 'B']})\n",
        "\n",
        "    filtered_df = filtered_df[filtered_df['Category'] == selected_category]\n",
        "    line_chart = px.line(filtered_df, x='Date', y='Value', title=f'Line Chart - Category {selected_category}')\n",
        "    return line_chart"
      ],
      "metadata": {
        "id": "lxwwv6MMojuB"
      },
      "execution_count": 40,
      "outputs": []
    },
    {
      "cell_type": "code",
      "source": [
        "app.run_server(debug=True, use_reloader=False)"
      ],
      "metadata": {
        "colab": {
          "base_uri": "https://localhost:8080/",
          "height": 672
        },
        "id": "Xll1tSDUnuYi",
        "outputId": "157b1488-d769-4d3d-8086-9810004cd65b"
      },
      "execution_count": 41,
      "outputs": [
        {
          "output_type": "display_data",
          "data": {
            "text/plain": [
              "<IPython.core.display.Javascript object>"
            ],
            "application/javascript": [
              "(async (port, path, width, height, cache, element) => {\n",
              "    if (!google.colab.kernel.accessAllowed && !cache) {\n",
              "      return;\n",
              "    }\n",
              "    element.appendChild(document.createTextNode(''));\n",
              "    const url = await google.colab.kernel.proxyPort(port, {cache});\n",
              "    const iframe = document.createElement('iframe');\n",
              "    iframe.src = new URL(path, url).toString();\n",
              "    iframe.height = height;\n",
              "    iframe.width = width;\n",
              "    iframe.style.border = 0;\n",
              "    iframe.allow = [\n",
              "        'accelerometer',\n",
              "        'autoplay',\n",
              "        'camera',\n",
              "        'clipboard-read',\n",
              "        'clipboard-write',\n",
              "        'gyroscope',\n",
              "        'magnetometer',\n",
              "        'microphone',\n",
              "        'serial',\n",
              "        'usb',\n",
              "        'xr-spatial-tracking',\n",
              "    ].join('; ');\n",
              "    element.appendChild(iframe);\n",
              "  })(8050, \"/\", \"100%\", 650, false, window.element)"
            ]
          },
          "metadata": {}
        }
      ]
    }
  ]
}