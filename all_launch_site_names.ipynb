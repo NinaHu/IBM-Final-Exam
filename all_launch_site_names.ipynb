{
  "nbformat": 4,
  "nbformat_minor": 0,
  "metadata": {
    "colab": {
      "provenance": []
    },
    "kernelspec": {
      "name": "python3",
      "display_name": "Python 3"
    },
    "language_info": {
      "name": "python"
    }
  },
  "cells": [
    {
      "cell_type": "code",
      "source": [
        "import pandas as pd"
      ],
      "metadata": {
        "id": "eULYm1grgW5z"
      },
      "execution_count": 2,
      "outputs": []
    },
    {
      "cell_type": "code",
      "execution_count": 4,
      "metadata": {
        "colab": {
          "base_uri": "https://localhost:8080/"
        },
        "id": "CPCITshwgEZW",
        "outputId": "aa2989d0-97d7-4c1e-a44b-c64d1536bbd5"
      },
      "outputs": [
        {
          "output_type": "stream",
          "name": "stdout",
          "text": [
            "Unique Launch Sites:\n",
            "For Flight Number vs. Launch Site: ['Site A' 'Site B' 'Site C']\n",
            "For Payload vs. Launch Site: ['Site A' 'Site B' 'Site C']\n",
            "For Launch Success Yearly Trend: []\n"
          ]
        }
      ],
      "source": [
        "data_flight_number = {\n",
        "    'Flight Number': [1, 2, 3, 4, 5, 6, 7, 8, 9, 10],\n",
        "    'Launch Site': ['Site A', 'Site B', 'Site A', 'Site C', 'Site B', 'Site A', 'Site C', 'Site B', 'Site A', 'Site C']\n",
        "}\n",
        "\n",
        "df_flight_number = pd.DataFrame(data_flight_number)\n",
        "\n",
        "data_payload = {\n",
        "    'Payload': [2000, 2500, 1800, 3000, 2200, 2700, 3200, 1900, 2800, 2300],\n",
        "    'Launch Site': ['Site A', 'Site B', 'Site A', 'Site C', 'Site B', 'Site A', 'Site C', 'Site B', 'Site A', 'Site C']\n",
        "}\n",
        "\n",
        "df_payload = pd.DataFrame(data_payload)\n",
        "\n",
        "data_launch_success = {\n",
        "    'Launch Date': pd.to_datetime(['2010-01-01', '2010-02-01', '2011-01-01', '2011-02-01', '2012-01-01', '2012-02-01']),\n",
        "    'Launch Success': [1, 0, 1, 1, 0, 1]\n",
        "}\n",
        "\n",
        "df_launch_success = pd.DataFrame(data_launch_success)\n",
        "\n",
        "unique_launch_sites_flight_number = df_flight_number['Launch Site'].unique()\n",
        "unique_launch_sites_payload = df_payload['Launch Site'].unique()\n",
        "unique_launch_sites_launch_success = []\n",
        "\n",
        "print(\"Unique Launch Sites:\")\n",
        "print(\"For Flight Number vs. Launch Site:\", unique_launch_sites_flight_number)\n",
        "print(\"For Payload vs. Launch Site:\", unique_launch_sites_payload)\n",
        "print(\"For Launch Success Yearly Trend:\", unique_launch_sites_launch_success)\n"
      ]
    },
    {
      "cell_type": "code",
      "source": [],
      "metadata": {
        "id": "muaMtYNngU2r"
      },
      "execution_count": null,
      "outputs": []
    }
  ]
}