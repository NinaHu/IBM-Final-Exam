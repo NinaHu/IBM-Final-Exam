{
  "nbformat": 4,
  "nbformat_minor": 0,
  "metadata": {
    "colab": {
      "provenance": []
    },
    "kernelspec": {
      "name": "python3",
      "display_name": "Python 3"
    },
    "language_info": {
      "name": "python"
    }
  },
  "cells": [
    {
      "cell_type": "code",
      "source": [
        "import pandas as pd\n",
        "import numpy as np"
      ],
      "metadata": {
        "id": "2IxCfCwsl_rw"
      },
      "execution_count": 4,
      "outputs": []
    },
    {
      "cell_type": "code",
      "source": [
        "# Payload carried by each booster\n",
        "payload_per_booster = 0.75 * 27  # 75% of 27 metric tons\n",
        "\n",
        "# Total payload carried by both boosters\n",
        "total_payload = 2 * payload_per_booster\n",
        "\n",
        "# Display the result\n",
        "print(f'Total payload carried by both boosters: {total_payload} metric tons')\n",
        "\n",
        "\n",
        "\n",
        "\n",
        "\n"
      ],
      "metadata": {
        "colab": {
          "base_uri": "https://localhost:8080/"
        },
        "id": "I5yZ-7aFkXAI",
        "outputId": "f04831dd-e5ef-46d0-ff99-67cfdc94af58"
      },
      "execution_count": 9,
      "outputs": [
        {
          "output_type": "stream",
          "name": "stdout",
          "text": [
            "Total payload carried by both boosters: 40.5 metric tons\n"
          ]
        }
      ]
    }
  ]
}