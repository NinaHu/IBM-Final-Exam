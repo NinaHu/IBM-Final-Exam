{
  "nbformat": 4,
  "nbformat_minor": 0,
  "metadata": {
    "colab": {
      "provenance": []
    },
    "kernelspec": {
      "name": "python3",
      "display_name": "Python 3"
    },
    "language_info": {
      "name": "python"
    }
  },
  "cells": [
    {
      "cell_type": "code",
      "source": [
        "import pandas as pd"
      ],
      "metadata": {
        "id": "mDd10nainZQE"
      },
      "execution_count": null,
      "outputs": []
    },
    {
      "cell_type": "code",
      "execution_count": 15,
      "metadata": {
        "colab": {
          "base_uri": "https://localhost:8080/"
        },
        "id": "8HZQvBXQkwxs",
        "outputId": "bc5f6cf5-d597-43a8-fa18-19b731c7c465"
      },
      "outputs": [
        {
          "output_type": "stream",
          "name": "stdout",
          "text": [
            "Unique Launch Sites:\n",
            "For Flight Number vs. Launch Site: ['Site A' 'Site B' 'Site C']\n",
            "For Payload vs. Launch Site: ['Site A' 'Site B' 'Site C']\n",
            "For Launch Success Yearly Trend: []\n",
            "Updated Unique Launch Sites for Launch Success Yearly Trend: ['CCA Site A' 'CCA Site B' 'Site CCA' 'Site B CCA' 'CCA Site C']\n",
            "\n",
            "Records where launch sites begin with 'CCA':\n",
            "  Launch Date  Launch Success Launch Site\n",
            "0  2013-01-01               1  CCA Site A\n",
            "1  2013-02-01               0  CCA Site B\n",
            "3  2014-02-01               0  CCA Site A\n",
            "5  2015-02-01               0  CCA Site C\n"
          ]
        }
      ],
      "source": [
        "data_flight_number = {\n",
        "    'Flight Number': [1, 2, 3, 4, 5, 6, 7, 8, 9, 10],\n",
        "    'Launch Site': ['Site A', 'Site B', 'Site A', 'Site C', 'Site B', 'Site A', 'Site C', 'Site B', 'Site A', 'Site C']\n",
        "}\n",
        "\n",
        "df_flight_number = pd.DataFrame(data_flight_number)\n",
        "\n",
        "data_payload = {\n",
        "    'Payload': [2000, 2500, 1800, 3000, 2200, 2700, 3200, 1900, 2800, 2300],\n",
        "    'Launch Site': ['Site A', 'Site B', 'Site A', 'Site C', 'Site B', 'Site A', 'Site C', 'Site B', 'Site A', 'Site C']\n",
        "}\n",
        "\n",
        "df_payload = pd.DataFrame(data_payload)\n",
        "\n",
        "data_launch_success = {\n",
        "    'Launch Date': pd.to_datetime(['2010-01-01', '2010-02-01', '2011-01-01', '2011-02-01', '2012-01-01', '2012-02-01']),\n",
        "    'Launch Success': [1, 0, 1, 1, 0, 1]\n",
        "}\n",
        "\n",
        "df_launch_success = pd.DataFrame(data_launch_success)\n",
        "\n",
        "unique_launch_sites_flight_number = df_flight_number['Launch Site'].unique()\n",
        "unique_launch_sites_payload = df_payload['Launch Site'].unique()\n",
        "unique_launch_sites_launch_success = []\n",
        "\n",
        "print(\"Unique Launch Sites:\")\n",
        "print(\"For Flight Number vs. Launch Site:\", unique_launch_sites_flight_number)\n",
        "print(\"For Payload vs. Launch Site:\", unique_launch_sites_payload)\n",
        "print(\"For Launch Success Yearly Trend:\", unique_launch_sites_launch_success)\n",
        "\n",
        "\n",
        "\n",
        "\n",
        "\n",
        "\n",
        "# Annahme: df_launch_success ist dein DataFrame für Launch Success Yearly Trend\n",
        "# Fülle die leeren Daten mit zufälligen Werten\n",
        "num_additional_records = 6  # Anzahl der zusätzlichen Datensätze\n",
        "\n",
        "additional_data = {\n",
        "    'Launch Date': pd.to_datetime(['2013-01-01', '2013-02-01', '2014-01-01', '2014-02-01', '2015-01-01', '2015-02-01']),\n",
        "    'Launch Success': np.random.choice([0, 1], num_additional_records),\n",
        "    'Launch Site': ['CCA Site A', 'CCA Site B', 'Site CCA', 'CCA Site A', 'Site B CCA', 'CCA Site C']\n",
        "}\n",
        "\n",
        "df_additional = pd.DataFrame(additional_data)\n",
        "df_launch_success = pd.concat([df_launch_success, df_additional])\n",
        "\n",
        "# Aktualisiere die einzigartigen Startplätze für Launch Success Yearly Trend\n",
        "unique_launch_sites_launch_success = df_launch_success['Launch Site'].dropna().unique()\n",
        "\n",
        "# Ausgabe der aktualisierten einzigartigen Startplätze\n",
        "print(\"Updated Unique Launch Sites for Launch Success Yearly Trend:\", unique_launch_sites_launch_success)\n",
        "\n",
        "# Finde 5 Datensätze, bei denen die Startplätze mit 'CCA' beginnen\n",
        "launch_sites_starting_with_CCA = df_launch_success.dropna(subset=['Launch Site'])\n",
        "launch_sites_starting_with_CCA = launch_sites_starting_with_CCA[launch_sites_starting_with_CCA['Launch Site'].str.startswith('CCA')].head(5)\n",
        "\n",
        "# Anzeige des Ergebnisses\n",
        "print(\"\\nRecords where launch sites begin with 'CCA':\")\n",
        "print(launch_sites_starting_with_CCA)\n"
      ]
    }
  ]
}